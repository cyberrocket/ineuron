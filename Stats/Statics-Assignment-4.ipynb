{
 "cells": [
  {
   "cell_type": "markdown",
   "id": "ce5973d2",
   "metadata": {},
   "source": [
    "### 1. Is it possible that an event is independent of itself? If so, when?\n",
    "**Ans :** The only events that are independent of themselves are those with probability either 0 or 1.\n",
    "\n",
    "That follows from the fact that a number is its own square if and only if it's either 0 or 1.\n",
    "\n",
    "The only way a random variable X can be independent of itself is if for every measurable set A, \n",
    "\n",
    "either Pr(X∈A)=1 or Pr(X∈A)=0.  "
   ]
  },
  {
   "cell_type": "markdown",
   "id": "60637914",
   "metadata": {},
   "source": [
    "### 2.  Is it always true that if A and B are independent events, then Ac and Bc are independent events? Show that it is, or give a counterexample.\n",
    "\n",
    "**Ans :** Let A and B be independent events, and let A and C be independent events. How do I show that A and B∪C are independent events as well?\n",
    "\n",
    "According to the definition of independent events, A and B∪C are independent if and only if\n",
    "\n",
    "P(A∩(B∪C))=P(A)P(B∪C).\n",
    "\n",
    "Since A and B and A and C are independent, I know that\n",
    "\n",
    "P(A∩B)=P(A)P(B) and P(A∩C)=P(A)P(C).\n",
    "\n",
    "However, I have no idea how to solve this. I attempted to apply the probability rules I know but got nowhere."
   ]
  }
 ],
 "metadata": {
  "kernelspec": {
   "display_name": "Python 3 (ipykernel)",
   "language": "python",
   "name": "python3"
  },
  "language_info": {
   "codemirror_mode": {
    "name": "ipython",
    "version": 3
   },
   "file_extension": ".py",
   "mimetype": "text/x-python",
   "name": "python",
   "nbconvert_exporter": "python",
   "pygments_lexer": "ipython3",
   "version": "3.9.7"
  }
 },
 "nbformat": 4,
 "nbformat_minor": 5
}
