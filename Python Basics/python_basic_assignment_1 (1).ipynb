{
  "nbformat": 4,
  "nbformat_minor": 0,
  "metadata": {
    "colab": {
      "name": "python basic assignment_1.ipynb",
      "provenance": []
    },
    "kernelspec": {
      "name": "python3",
      "display_name": "Python 3"
    },
    "language_info": {
      "name": "python"
    }
  },
  "cells": [
    {
      "cell_type": "markdown",
      "metadata": {
        "id": "YK4zcBF20Wd7"
      },
      "source": [
        "## **1. In the below elements which of them are values or an expression? eg:- values can be integer or string and expressions will be mathematical operators.**\n",
        "*<br>\n",
        "&#39;hello&#39;<br>\n",
        "-87.8<br>\n",
        "-<br>\n",
        "/<br>\n",
        "+<br>\n",
        "6\n",
        "\n",
        "### **Ans :-**\n",
        "Values are ('hello', -87.8,6)<br>\n",
        "Expressions are (*,-,/,+)"
      ]
    },
    {
      "cell_type": "markdown",
      "metadata": {
        "id": "si-n84Cu0pwA"
      },
      "source": [
        "## **2. What is the difference between string and variable?**\n",
        "\n",
        "### **Ans :-** \n",
        "Basically **string** is the combination of characters, numbers etc for example in python what ever comes in \" \" or ' ' is a string.\n",
        "\n",
        "If I talk about **Variables** then variables are like an empty boxes in which you can store anything but nothing is permanent. we just store some data in it to perform certain task after that maybe we can replace the value present in it. like \n",
        "\n",
        "**Input :-**<br>a = 4 <br> b = 5 <br> b = b + a<br>print(b)<br><br>**Output :-** 9 "
      ]
    },
    {
      "cell_type": "markdown",
      "metadata": {
        "id": "tYKLHCd65V2k"
      },
      "source": [
        "## **3. Describe three different data types.**\n",
        "**Ans :-** 1. integer<br>2. Strings<br>3. float"
      ]
    },
    {
      "cell_type": "markdown",
      "metadata": {
        "id": "JZw817Vl732S"
      },
      "source": [
        "## **4. What is an expression made up of? What do all expressions do?**\n",
        "**Ans :-** Expression is the combination of values, operators and variables. The main goal of all expression is to get a single value."
      ]
    },
    {
      "cell_type": "markdown",
      "metadata": {
        "id": "Q7YBXmov8jFa"
      },
      "source": [
        "## **5. This assignment statements, like spam = 10. What is the difference between an expression and a statement?**\n",
        "\n",
        "**Ans :-** Expression is a single value and Statement represents an action or command e.g print statements, assignment statements."
      ]
    },
    {
      "cell_type": "markdown",
      "metadata": {
        "id": "H77RkXoS9iIe"
      },
      "source": [
        "## **6. After running the following code, what does the variable bacon contain?**<br> bacon = 22<br>bacon + 1\n",
        "**Ans :-** Bacon will contain 22 value because when we perform add operation we donot save it in any variable.\n"
      ]
    },
    {
      "cell_type": "markdown",
      "metadata": {
        "id": "3u7xXofQ-lIh"
      },
      "source": [
        "## **7. What should the values of the following two terms be?**<br>&#39;spam&#39; + &#39;spamspam&#39;<br>&#39;spam&#39; * 3\n",
        "\n",
        "**Ans :-** Both the values will be 'spamspamspam'"
      ]
    },
    {
      "cell_type": "markdown",
      "metadata": {
        "id": "6Uy4GV_L_HJW"
      },
      "source": [
        "## **8. Why is eggs a valid variable name while 100 is invalid?**\n",
        "\n",
        "**Ans :-** Because variables never starts wityh numbers."
      ]
    },
    {
      "cell_type": "markdown",
      "metadata": {
        "id": "CkMGth9n_cVK"
      },
      "source": [
        "## **9. What three functions can be used to get the integer, floating-point number, or string version of a value?**\n",
        "\n",
        "**Ans :-** int(),float() and str() are used respectively"
      ]
    },
    {
      "cell_type": "markdown",
      "metadata": {
        "id": "x-1GHHKyAHiK"
      },
      "source": [
        "## **10. Why does this expression cause an error? How can you fix it?**<br>&#39;I have eaten &#39; + 99 + &#39; burritos.&#39;\n",
        "\n",
        "**Ans :-** Because we can't add integer with string directly we have to first convert integer 99 into str(99) then we can perform this task."
      ]
    }
  ]
}