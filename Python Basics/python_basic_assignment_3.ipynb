{
 "cells": [
  {
   "cell_type": "markdown",
   "id": "57f90a0c",
   "metadata": {},
   "source": [
    "### 1. Why are functions advantageous to have in your programs?\n",
    "\n",
    "**Ans:-** Functions reduces the dubicate code and it makes the code easy to read and update"
   ]
  },
  {
   "cell_type": "markdown",
   "id": "cf788a9f",
   "metadata": {},
   "source": [
    "### 2. When does the code in a function run: when it&#39;s specified or when it&#39;s called?\n",
    "\n",
    "**Ans:-** When we call any specific function the code will start executing."
   ]
  },
  {
   "cell_type": "markdown",
   "id": "43c264e9",
   "metadata": {},
   "source": [
    "### 3. What statement creates a function?\n",
    "\n",
    "**Ans:-** def statement is used to create a function."
   ]
  },
  {
   "cell_type": "markdown",
   "id": "cca22863",
   "metadata": {},
   "source": [
    "### 4. What is the difference between a function and a function call?\n",
    "\n",
    "**Ans:-** In function it is only means to create a set of code and returning a value which will execute when ever we call it in our main program."
   ]
  },
  {
   "cell_type": "markdown",
   "id": "3f6e3d9f",
   "metadata": {},
   "source": [
    "### 5. How many global scopes are there in a Python program? How many local scopes\n",
    "\n",
    "**Ans:-** There is one global scope, and a local scope is created whenever a function is called."
   ]
  },
  {
   "cell_type": "markdown",
   "id": "1de2edba",
   "metadata": {},
   "source": [
    "### 6. What happens to variables in a local scope when the function call returns?\n",
    "\n",
    "**Ans:-** when function call returns the the local scope is destroyed and variables are forgotten. "
   ]
  },
  {
   "cell_type": "markdown",
   "id": "83b96cd6",
   "metadata": {},
   "source": [
    "### 7. What is the concept of a return value? Is it possible to have a return value in an expression?\n",
    "\n",
    "**Ans:-** return value is the value after executing the code present in the function and a return value can be used as part of an expression."
   ]
  },
  {
   "cell_type": "markdown",
   "id": "de7802d0",
   "metadata": {},
   "source": [
    "### 8. If a function does not have a return statement, what is the return value of a call to that function?\n",
    "\n",
    "**Ans:-** If there is no return in the function then it will return nothing means return will be None."
   ]
  },
  {
   "cell_type": "markdown",
   "id": "49de3030",
   "metadata": {},
   "source": [
    "### 9. How do you make a function variable refer to the global variable?\n",
    "\n",
    "**Ans:-** By using global statement we can make it as global variable."
   ]
  },
  {
   "cell_type": "markdown",
   "id": "9336a7e0",
   "metadata": {},
   "source": [
    "### 10. What is the data type of None?\n",
    "\n",
    "**Ans:-** None datatype"
   ]
  },
  {
   "cell_type": "markdown",
   "id": "acbbb21c",
   "metadata": {},
   "source": [
    "### 11. What does the sentence import areallyourpetsnamederic do?\n",
    "\n",
    "**Ans:-** It will import the module named as areallyourpetsnamederic"
   ]
  },
  {
   "cell_type": "markdown",
   "id": "15ef72ac",
   "metadata": {},
   "source": [
    "### 12. If you had a bacon() feature in a spam module, what would you call it after importing spam?\n",
    "\n",
    "**Ans:-** spam.bacon()"
   ]
  },
  {
   "cell_type": "markdown",
   "id": "4c5118b1",
   "metadata": {},
   "source": [
    "### 13. What can you do to save a programme from crashing if it encounters an error?\n",
    "\n",
    "**Ans:-** We can use try clause to avoid it."
   ]
  },
  {
   "cell_type": "markdown",
   "id": "fa0e7a29",
   "metadata": {},
   "source": [
    "### 14. What is the purpose of the try clause? What is the purpose of the except clause?\n",
    "\n",
    "**Ans:-** try clause is used to avoid any error which may occur and except have a code which will run if try clause code got an error."
   ]
  }
 ],
 "metadata": {
  "kernelspec": {
   "display_name": "Python 3 (ipykernel)",
   "language": "python",
   "name": "python3"
  },
  "language_info": {
   "codemirror_mode": {
    "name": "ipython",
    "version": 3
   },
   "file_extension": ".py",
   "mimetype": "text/x-python",
   "name": "python",
   "nbconvert_exporter": "python",
   "pygments_lexer": "ipython3",
   "version": "3.9.7"
  }
 },
 "nbformat": 4,
 "nbformat_minor": 5
}
