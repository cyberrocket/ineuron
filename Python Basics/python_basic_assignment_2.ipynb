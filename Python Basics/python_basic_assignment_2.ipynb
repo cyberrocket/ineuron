{
 "cells": [
  {
   "cell_type": "markdown",
   "id": "e2cde497",
   "metadata": {},
   "source": [
    "### 1.What are the two values of the Boolean data type? How do you write them?\n",
    "**Ans:-** The two values of the boolean data type are True and False. In python we write it as True and False T and F must be in capital letters"
   ]
  },
  {
   "cell_type": "markdown",
   "id": "6420148f",
   "metadata": {},
   "source": [
    "### 2. What are the three different types of Boolean operators?\n",
    "**Ans:-** The three different types of boolean operators are AND, OR and NOT"
   ]
  },
  {
   "cell_type": "markdown",
   "id": "182853d5",
   "metadata": {},
   "source": [
    "### 3. Make a list of each Boolean operator&#39;s truth tables (i.e. every possible combination of Boolean Values for the operator and what it evaluate ).\n",
    "**Ans:-** True AND True = True<br>\n",
    "True AND False = False<br>\n",
    "False AND True = False<br>\n",
    "False AND False = False<br>\n",
    "True OR True = True<br>\n",
    "True OR False = True<br>\n",
    "False OR True = True<br>\n",
    "False OR False = False<br>\n",
    "NOT True = False<br>\n",
    "NOT False = True\n"
   ]
  },
  {
   "cell_type": "markdown",
   "id": "b1a0bb22",
   "metadata": {},
   "source": [
    "### 4. What are the values of the following expressions?\n",
    "**Ans:-** (5 &gt; 4) and (3 == 5) --> False\n",
    "not (5 &gt; 4) --> False\n",
    "(5 &gt; 4) or (3 == 5) --> True\n",
    "not ((5 &gt; 4) or (3 == 5)) --> False\n",
    "(True and True) and (True == False) --> False\n",
    "(not False) or (not True) --> True"
   ]
  },
  {
   "cell_type": "markdown",
   "id": "4d358b6d",
   "metadata": {},
   "source": [
    "### 5. What are the six comparison operators?\n",
    "**Ans:-** The six comparison operators are <,>,<=,>=,==,!=."
   ]
  },
  {
   "cell_type": "markdown",
   "id": "5f3685ac",
   "metadata": {},
   "source": [
    "### 6. How do you tell the difference between the equal to and assignment operators?Describe a condition and when you would use one.\n",
    "\n",
    "**Ans:-** Equal operator are basically used to compare two values and it is denoted as '==' and Assignment operator are basically used to store value in the variable and it is denoted as '='."
   ]
  },
  {
   "cell_type": "markdown",
   "id": "bc69a58a",
   "metadata": {},
   "source": [
    "### 7. Identify the three blocks in this code:\n",
    "\n",
    "**Ans:-** "
   ]
  },
  {
   "cell_type": "code",
   "execution_count": 3,
   "id": "fb5b7828",
   "metadata": {},
   "outputs": [
    {
     "name": "stdout",
     "output_type": "stream",
     "text": [
      "spam\n"
     ]
    }
   ],
   "source": [
    "spam = 0\n",
    "if spam == 10:\n",
    "    print(\"eggs\")\n",
    "    if spam > 5:\n",
    "        print('bacon')\n",
    "    else:\n",
    "        print('ham')\n",
    "    print('spam')\n",
    "print('spam')"
   ]
  },
  {
   "cell_type": "markdown",
   "id": "47973e5d",
   "metadata": {},
   "source": [
    "### 8. Write code that prints Hello if 1 is stored in spam, prints Howdy if 2 is stored in spam, and prints Greetings! if anything else is stored in spam.\n",
    "\n",
    "**Ans:-**"
   ]
  },
  {
   "cell_type": "code",
   "execution_count": 5,
   "id": "05706b21",
   "metadata": {},
   "outputs": [
    {
     "name": "stdout",
     "output_type": "stream",
     "text": [
      "Enter the value = 2\n",
      "Howdy\n"
     ]
    }
   ],
   "source": [
    "spam = int(input(\"Enter the value = \"))\n",
    "if spam == 1:\n",
    "    print(\"Hello\")\n",
    "elif spam == 2:\n",
    "    print(\"Howdy\")\n",
    "else:\n",
    "    print(\"Greetings!\")"
   ]
  },
  {
   "cell_type": "markdown",
   "id": "97eee921",
   "metadata": {},
   "source": [
    "### 9.If your programme is stuck in an endless loop, what keys you’ll press?\n",
    "\n",
    "**Ans:-** You can press Ctrl + C or you can restart you kernel."
   ]
  },
  {
   "cell_type": "markdown",
   "id": "8a29fb6f",
   "metadata": {},
   "source": [
    "### 10. How can you tell the difference between break and continue?\n",
    "\n",
    "**Ans:-** Break Statement is used to break the coomplete loop and continue statement is used when we want to skip any particular step."
   ]
  },
  {
   "cell_type": "markdown",
   "id": "ef30f0ba",
   "metadata": {},
   "source": [
    "### 11. In a for loop, what is the difference between range(10), range(0, 10), and range(0, 10, 1)?\n",
    "\n",
    "**Ans:-** In for loop range(10) means when we run this it will automatically create range starts from 0 and end with 9, range(0,10) we specifically telling that range must be start from 0 but the out will be ranges from 0 to 9 and in case of range(0,10,1) we specifically telling that in range 0 to 9 their must be a gap of 1 digit \n",
    "\n",
    "But at the end you will got same result"
   ]
  },
  {
   "cell_type": "markdown",
   "id": "ec9b3200",
   "metadata": {},
   "source": [
    "### 12. Write a short program that prints the numbers 1 to 10 using a for loop. Then write an equivalent program that prints the numbers 1 to 10 using a while loop.\n",
    "\n",
    "**Ans:-** "
   ]
  },
  {
   "cell_type": "code",
   "execution_count": 6,
   "id": "fb6520fd",
   "metadata": {},
   "outputs": [
    {
     "name": "stdout",
     "output_type": "stream",
     "text": [
      "1\n",
      "2\n",
      "3\n",
      "4\n",
      "5\n",
      "6\n",
      "7\n",
      "8\n",
      "9\n",
      "10\n"
     ]
    }
   ],
   "source": [
    "for i in range(1,11):\n",
    "    print(i)"
   ]
  },
  {
   "cell_type": "code",
   "execution_count": 7,
   "id": "b0fa3d85",
   "metadata": {},
   "outputs": [
    {
     "name": "stdout",
     "output_type": "stream",
     "text": [
      "1\n",
      "2\n",
      "3\n",
      "4\n",
      "5\n",
      "6\n",
      "7\n",
      "8\n",
      "9\n",
      "10\n"
     ]
    }
   ],
   "source": [
    "i=1\n",
    "while i <=10:\n",
    "    print(i)\n",
    "    i+=1"
   ]
  },
  {
   "cell_type": "markdown",
   "id": "62844afc",
   "metadata": {},
   "source": [
    "### 13. If you had a function named bacon() inside a module named spam, how would you call it after importing spam?\n",
    "\n",
    "**Ans:-** spam.bacon()"
   ]
  },
  {
   "cell_type": "code",
   "execution_count": null,
   "id": "39812b90",
   "metadata": {},
   "outputs": [],
   "source": []
  }
 ],
 "metadata": {
  "kernelspec": {
   "display_name": "Python 3 (ipykernel)",
   "language": "python",
   "name": "python3"
  },
  "language_info": {
   "codemirror_mode": {
    "name": "ipython",
    "version": 3
   },
   "file_extension": ".py",
   "mimetype": "text/x-python",
   "name": "python",
   "nbconvert_exporter": "python",
   "pygments_lexer": "ipython3",
   "version": "3.9.7"
  }
 },
 "nbformat": 4,
 "nbformat_minor": 5
}
